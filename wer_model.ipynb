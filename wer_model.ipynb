{
  "nbformat": 4,
  "nbformat_minor": 0,
  "metadata": {
    "colab": {
      "provenance": [],
      "toc_visible": true,
      "gpuType": "T4",
      "mount_file_id": "1HTr1yjWvaLpoD5lD0oooWoZMSF5v0i6C",
      "authorship_tag": "ABX9TyNqrzs+yUtVa2v2a/OyNSRm",
      "include_colab_link": true
    },
    "kernelspec": {
      "name": "python3",
      "display_name": "Python 3"
    },
    "language_info": {
      "name": "python"
    },
    "accelerator": "GPU"
  },
  "cells": [
    {
      "cell_type": "markdown",
      "metadata": {
        "id": "view-in-github",
        "colab_type": "text"
      },
      "source": [
        "<a href=\"https://colab.research.google.com/github/aaditiash/WERmodel_MLproject/blob/main/wer_model.ipynb\" target=\"_parent\"><img src=\"https://colab.research.google.com/assets/colab-badge.svg\" alt=\"Open In Colab\"/></a>"
      ]
    },
    {
      "cell_type": "code",
      "source": [
        "from google.colab import drive\n",
        "drive.mount('/content/drive')"
      ],
      "metadata": {
        "colab": {
          "base_uri": "https://localhost:8080/"
        },
        "id": "twMwhVOhPmiM",
        "outputId": "d2cdcd9e-9515-412f-9917-3f192ef56c63"
      },
      "execution_count": 2,
      "outputs": [
        {
          "output_type": "stream",
          "name": "stdout",
          "text": [
            "Drive already mounted at /content/drive; to attempt to forcibly remount, call drive.mount(\"/content/drive\", force_remount=True).\n"
          ]
        }
      ]
    },
    {
      "cell_type": "code",
      "source": [
        "!pwd"
      ],
      "metadata": {
        "colab": {
          "base_uri": "https://localhost:8080/"
        },
        "id": "ltBBXxM1QAfK",
        "outputId": "38b92748-d93a-4729-d6a6-8dcdf6c59cd6"
      },
      "execution_count": 4,
      "outputs": [
        {
          "output_type": "stream",
          "name": "stdout",
          "text": [
            "/content\n"
          ]
        }
      ]
    },
    {
      "cell_type": "code",
      "source": [
        "''' from datasets import load_dataset\n",
        "from transformers import WhisperForConditionalGeneration, WhisperProcessor\n",
        "import torch\n",
        "from evaluate import load\n",
        "\n",
        "librispeech_test_clean = load_dataset(\"librispeech_asr\", \"clean\", split=\"test\")\n",
        "\n",
        "processor = WhisperProcessor.from_pretrained(\"openai/whisper-large\")\n",
        "model = WhisperForConditionalGeneration.from_pretrained(\"openai/whisper-large\").to(\"cuda\")\n",
        "\n",
        "def map_to_pred(batch):\n",
        "    audio = batch[\"audio\"]\n",
        "    input_features = processor(audio[\"array\"], sampling_rate=audio[\"sampling_rate\"], return_tensors=\"pt\").input_features\n",
        "    batch[\"reference\"] = processor.tokenizer._normalize(batch['text'])\n",
        "\n",
        "    with torch.no_grad():\n",
        "        predicted_ids = model.generate(input_features.to(\"cuda\"))[0]\n",
        "    transcription = processor.decode(predicted_ids)\n",
        "    batch[\"prediction\"] = processor.tokenizer._normalize(transcription)\n",
        "    return batch\n",
        "\n",
        "result = librispeech_test_clean.map(map_to_pred)\n",
        "\n",
        "wer = load(\"wer\")\n",
        "print(100 * wer.compute(references=result[\"reference\"], predictions=result[\"prediction\"])) '''"
      ],
      "metadata": {
        "id": "wiu48xOaRwP-"
      },
      "execution_count": 5,
      "outputs": []
    },
    {
      "cell_type": "code",
      "source": [],
      "metadata": {
        "id": "6uM4xo5NTmgt"
      },
      "execution_count": null,
      "outputs": []
    }
  ]
}